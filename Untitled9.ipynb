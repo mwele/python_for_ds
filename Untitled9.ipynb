{
 "cells": [
  {
   "cell_type": "code",
   "execution_count": 2,
   "metadata": {},
   "outputs": [
    {
     "data": {
      "image/png": "[encoded data removed]",
      "text/plain": [
       "<Figure size 432x288 with 1 Axes>"
      ]
     },
     "metadata": {
      "needs_background": "light"
     },
     "output_type": "display_data"
    }
   ],
   "source": [
    "import numpy as np\n",
    "import pandas as pd\n",
    "from sklearn.utils import resample\n",
    "from sklearn.metrics import accuracy_score\n",
    "from matplotlib import pyplot\n",
    "#load dataset\n",
    "x=np.array([180,162,158,172,168,150,171,183,165,176])\n",
    "#configure bootstrap\n",
    "n_iterations =1000\n",
    "n_size =int(len(x))\n",
    "#run bootstrap\n",
    "medians=list()\n",
    "for i in range(n_iterations):\n",
    "    s=resample(x,n_samples=n_size)\n",
    "    m=np.median(s)\n",
    "    medians.append(m)\n",
    "pyplot.hist(medians)\n",
    "pyplot.show()"
   ]
  },
  {
   "cell_type": "code",
   "execution_count": 4,
   "metadata": {},
   "outputs": [
    {
     "name": "stdout",
     "output_type": "stream",
     "text": [
      "95.0 161.5 176.0\n"
     ]
    }
   ],
   "source": [
    "alpha =0.95\n",
    "p=((1-0.95)/2.0)*100\n",
    "lower=np.percentile(medians,p)\n",
    "p=(alpha+((1-alpha)/2.0))*100\n",
    "upper=np.percentile(medians,p)\n",
    "print(alpha*100,lower,upper)"
   ]
  },
  {
   "cell_type": "code",
   "execution_count": null,
   "metadata": {},
   "outputs": [],
   "source": []
  }
 ],
 "metadata": {
  "kernelspec": {
   "display_name": "Python 3",
   "language": "python",
   "name": "python3"
  },
  "language_info": {
   "codemirror_mode": {
    "name": "ipython",
    "version": 3
   },
   "file_extension": ".py",
   "mimetype": "text/x-python",
   "name": "python",
   "nbconvert_exporter": "python",
   "pygments_lexer": "ipython3",
   "version": "3.8.3"
  }
 },
 "nbformat": 4,
 "nbformat_minor": 4
}
